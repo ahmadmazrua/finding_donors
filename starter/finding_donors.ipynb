{
 "cells": [
  {
   "cell_type": "markdown",
   "metadata": {},
   "source": [
    "# Data Scientist Nanodegree\n",
    "## Supervised Learning\n",
    "## Project: Finding Donors for *CharityML*"
   ]
  },
  {
   "cell_type": "markdown",
   "metadata": {},
   "source": [
    "Welcome to the first project of the Data Scientist Nanodegree! In this notebook, some template code has already been provided for you, and it will be your job to implement the additional functionality necessary to successfully complete this project. Sections that begin with **'Implementation'** in the header indicate that the following block of code will require additional functionality which you must provide. Instructions will be provided for each section and the specifics of the implementation are marked in the code block with a `'TODO'` statement. Please be sure to read the instructions carefully!\n",
    "\n",
    "In addition to implementing code, there will be questions that you must answer which relate to the project and your implementation. Each section where you will answer a question is preceded by a **'Question X'** header. Carefully read each question and provide thorough answers in the following text boxes that begin with **'Answer:'**. Your project submission will be evaluated based on your answers to each of the questions and the implementation you provide.  \n",
    "\n",
    ">**Note:** Please specify WHICH VERSION OF PYTHON you are using when submitting this notebook. Code and Markdown cells can be executed using the **Shift + Enter** keyboard shortcut. In addition, Markdown cells can be edited by typically double-clicking the cell to enter edit mode."
   ]
  },
  {
   "cell_type": "markdown",
   "metadata": {},
   "source": [
    "## Getting Started\n",
    "\n",
    "In this project, you will employ several supervised algorithms of your choice to accurately model individuals' income using data collected from the 1994 U.S. Census. You will then choose the best candidate algorithm from preliminary results and further optimize this algorithm to best model the data. Your goal with this implementation is to construct a model that accurately predicts whether an individual makes more than $50,000. This sort of task can arise in a non-profit setting, where organizations survive on donations.  Understanding an individual's income can help a non-profit better understand how large of a donation to request, or whether or not they should reach out to begin with.  While it can be difficult to determine an individual's general income bracket directly from public sources, we can (as we will see) infer this value from other publically available features. \n",
    "\n",
    "The dataset for this project originates from the [UCI Machine Learning Repository](https://archive.ics.uci.edu/ml/datasets/Census+Income). The datset was donated by Ron Kohavi and Barry Becker, after being published in the article _\"Scaling Up the Accuracy of Naive-Bayes Classifiers: A Decision-Tree Hybrid\"_. You can find the article by Ron Kohavi [online](https://www.aaai.org/Papers/KDD/1996/KDD96-033.pdf). The data we investigate here consists of small changes to the original dataset, such as removing the `'fnlwgt'` feature and records with missing or ill-formatted entries."
   ]
  },
  {
   "cell_type": "markdown",
   "metadata": {},
   "source": [
    "----\n",
    "## Exploring the Data\n",
    "Run the code cell below to load necessary Python libraries and load the census data. Note that the last column from this dataset, `'income'`, will be our target label (whether an individual makes more than, or at most, $50,000 annually). All other columns are features about each individual in the census database."
   ]
  },
  {
   "cell_type": "code",
   "execution_count": 1,
   "metadata": {},
   "outputs": [
    {
     "data": {
      "text/html": [
       "<div>\n",
       "<style scoped>\n",
       "    .dataframe tbody tr th:only-of-type {\n",
       "        vertical-align: middle;\n",
       "    }\n",
       "\n",
       "    .dataframe tbody tr th {\n",
       "        vertical-align: top;\n",
       "    }\n",
       "\n",
       "    .dataframe thead th {\n",
       "        text-align: right;\n",
       "    }\n",
       "</style>\n",
       "<table border=\"1\" class=\"dataframe\">\n",
       "  <thead>\n",
       "    <tr style=\"text-align: right;\">\n",
       "      <th></th>\n",
       "      <th>age</th>\n",
       "      <th>workclass</th>\n",
       "      <th>education_level</th>\n",
       "      <th>education-num</th>\n",
       "      <th>marital-status</th>\n",
       "      <th>occupation</th>\n",
       "      <th>relationship</th>\n",
       "      <th>race</th>\n",
       "      <th>sex</th>\n",
       "      <th>capital-gain</th>\n",
       "      <th>capital-loss</th>\n",
       "      <th>hours-per-week</th>\n",
       "      <th>native-country</th>\n",
       "      <th>income</th>\n",
       "    </tr>\n",
       "  </thead>\n",
       "  <tbody>\n",
       "    <tr>\n",
       "      <th>0</th>\n",
       "      <td>39</td>\n",
       "      <td>State-gov</td>\n",
       "      <td>Bachelors</td>\n",
       "      <td>13.0</td>\n",
       "      <td>Never-married</td>\n",
       "      <td>Adm-clerical</td>\n",
       "      <td>Not-in-family</td>\n",
       "      <td>White</td>\n",
       "      <td>Male</td>\n",
       "      <td>2174.0</td>\n",
       "      <td>0.0</td>\n",
       "      <td>40.0</td>\n",
       "      <td>United-States</td>\n",
       "      <td>&lt;=50K</td>\n",
       "    </tr>\n",
       "    <tr>\n",
       "      <th>1</th>\n",
       "      <td>50</td>\n",
       "      <td>Self-emp-not-inc</td>\n",
       "      <td>Bachelors</td>\n",
       "      <td>13.0</td>\n",
       "      <td>Married-civ-spouse</td>\n",
       "      <td>Exec-managerial</td>\n",
       "      <td>Husband</td>\n",
       "      <td>White</td>\n",
       "      <td>Male</td>\n",
       "      <td>0.0</td>\n",
       "      <td>0.0</td>\n",
       "      <td>13.0</td>\n",
       "      <td>United-States</td>\n",
       "      <td>&lt;=50K</td>\n",
       "    </tr>\n",
       "    <tr>\n",
       "      <th>2</th>\n",
       "      <td>38</td>\n",
       "      <td>Private</td>\n",
       "      <td>HS-grad</td>\n",
       "      <td>9.0</td>\n",
       "      <td>Divorced</td>\n",
       "      <td>Handlers-cleaners</td>\n",
       "      <td>Not-in-family</td>\n",
       "      <td>White</td>\n",
       "      <td>Male</td>\n",
       "      <td>0.0</td>\n",
       "      <td>0.0</td>\n",
       "      <td>40.0</td>\n",
       "      <td>United-States</td>\n",
       "      <td>&lt;=50K</td>\n",
       "    </tr>\n",
       "    <tr>\n",
       "      <th>3</th>\n",
       "      <td>53</td>\n",
       "      <td>Private</td>\n",
       "      <td>11th</td>\n",
       "      <td>7.0</td>\n",
       "      <td>Married-civ-spouse</td>\n",
       "      <td>Handlers-cleaners</td>\n",
       "      <td>Husband</td>\n",
       "      <td>Black</td>\n",
       "      <td>Male</td>\n",
       "      <td>0.0</td>\n",
       "      <td>0.0</td>\n",
       "      <td>40.0</td>\n",
       "      <td>United-States</td>\n",
       "      <td>&lt;=50K</td>\n",
       "    </tr>\n",
       "    <tr>\n",
       "      <th>4</th>\n",
       "      <td>28</td>\n",
       "      <td>Private</td>\n",
       "      <td>Bachelors</td>\n",
       "      <td>13.0</td>\n",
       "      <td>Married-civ-spouse</td>\n",
       "      <td>Prof-specialty</td>\n",
       "      <td>Wife</td>\n",
       "      <td>Black</td>\n",
       "      <td>Female</td>\n",
       "      <td>0.0</td>\n",
       "      <td>0.0</td>\n",
       "      <td>40.0</td>\n",
       "      <td>Cuba</td>\n",
       "      <td>&lt;=50K</td>\n",
       "    </tr>\n",
       "    <tr>\n",
       "      <th>5</th>\n",
       "      <td>37</td>\n",
       "      <td>Private</td>\n",
       "      <td>Masters</td>\n",
       "      <td>14.0</td>\n",
       "      <td>Married-civ-spouse</td>\n",
       "      <td>Exec-managerial</td>\n",
       "      <td>Wife</td>\n",
       "      <td>White</td>\n",
       "      <td>Female</td>\n",
       "      <td>0.0</td>\n",
       "      <td>0.0</td>\n",
       "      <td>40.0</td>\n",
       "      <td>United-States</td>\n",
       "      <td>&lt;=50K</td>\n",
       "    </tr>\n",
       "    <tr>\n",
       "      <th>6</th>\n",
       "      <td>49</td>\n",
       "      <td>Private</td>\n",
       "      <td>9th</td>\n",
       "      <td>5.0</td>\n",
       "      <td>Married-spouse-absent</td>\n",
       "      <td>Other-service</td>\n",
       "      <td>Not-in-family</td>\n",
       "      <td>Black</td>\n",
       "      <td>Female</td>\n",
       "      <td>0.0</td>\n",
       "      <td>0.0</td>\n",
       "      <td>16.0</td>\n",
       "      <td>Jamaica</td>\n",
       "      <td>&lt;=50K</td>\n",
       "    </tr>\n",
       "    <tr>\n",
       "      <th>7</th>\n",
       "      <td>52</td>\n",
       "      <td>Self-emp-not-inc</td>\n",
       "      <td>HS-grad</td>\n",
       "      <td>9.0</td>\n",
       "      <td>Married-civ-spouse</td>\n",
       "      <td>Exec-managerial</td>\n",
       "      <td>Husband</td>\n",
       "      <td>White</td>\n",
       "      <td>Male</td>\n",
       "      <td>0.0</td>\n",
       "      <td>0.0</td>\n",
       "      <td>45.0</td>\n",
       "      <td>United-States</td>\n",
       "      <td>&gt;50K</td>\n",
       "    </tr>\n",
       "    <tr>\n",
       "      <th>8</th>\n",
       "      <td>31</td>\n",
       "      <td>Private</td>\n",
       "      <td>Masters</td>\n",
       "      <td>14.0</td>\n",
       "      <td>Never-married</td>\n",
       "      <td>Prof-specialty</td>\n",
       "      <td>Not-in-family</td>\n",
       "      <td>White</td>\n",
       "      <td>Female</td>\n",
       "      <td>14084.0</td>\n",
       "      <td>0.0</td>\n",
       "      <td>50.0</td>\n",
       "      <td>United-States</td>\n",
       "      <td>&gt;50K</td>\n",
       "    </tr>\n",
       "    <tr>\n",
       "      <th>9</th>\n",
       "      <td>42</td>\n",
       "      <td>Private</td>\n",
       "      <td>Bachelors</td>\n",
       "      <td>13.0</td>\n",
       "      <td>Married-civ-spouse</td>\n",
       "      <td>Exec-managerial</td>\n",
       "      <td>Husband</td>\n",
       "      <td>White</td>\n",
       "      <td>Male</td>\n",
       "      <td>5178.0</td>\n",
       "      <td>0.0</td>\n",
       "      <td>40.0</td>\n",
       "      <td>United-States</td>\n",
       "      <td>&gt;50K</td>\n",
       "    </tr>\n",
       "  </tbody>\n",
       "</table>\n",
       "</div>"
      ],
      "text/plain": [
       "   age          workclass education_level  education-num  \\\n",
       "0   39          State-gov       Bachelors           13.0   \n",
       "1   50   Self-emp-not-inc       Bachelors           13.0   \n",
       "2   38            Private         HS-grad            9.0   \n",
       "3   53            Private            11th            7.0   \n",
       "4   28            Private       Bachelors           13.0   \n",
       "5   37            Private         Masters           14.0   \n",
       "6   49            Private             9th            5.0   \n",
       "7   52   Self-emp-not-inc         HS-grad            9.0   \n",
       "8   31            Private         Masters           14.0   \n",
       "9   42            Private       Bachelors           13.0   \n",
       "\n",
       "           marital-status          occupation    relationship    race  \\\n",
       "0           Never-married        Adm-clerical   Not-in-family   White   \n",
       "1      Married-civ-spouse     Exec-managerial         Husband   White   \n",
       "2                Divorced   Handlers-cleaners   Not-in-family   White   \n",
       "3      Married-civ-spouse   Handlers-cleaners         Husband   Black   \n",
       "4      Married-civ-spouse      Prof-specialty            Wife   Black   \n",
       "5      Married-civ-spouse     Exec-managerial            Wife   White   \n",
       "6   Married-spouse-absent       Other-service   Not-in-family   Black   \n",
       "7      Married-civ-spouse     Exec-managerial         Husband   White   \n",
       "8           Never-married      Prof-specialty   Not-in-family   White   \n",
       "9      Married-civ-spouse     Exec-managerial         Husband   White   \n",
       "\n",
       "       sex  capital-gain  capital-loss  hours-per-week  native-country income  \n",
       "0     Male        2174.0           0.0            40.0   United-States  <=50K  \n",
       "1     Male           0.0           0.0            13.0   United-States  <=50K  \n",
       "2     Male           0.0           0.0            40.0   United-States  <=50K  \n",
       "3     Male           0.0           0.0            40.0   United-States  <=50K  \n",
       "4   Female           0.0           0.0            40.0            Cuba  <=50K  \n",
       "5   Female           0.0           0.0            40.0   United-States  <=50K  \n",
       "6   Female           0.0           0.0            16.0         Jamaica  <=50K  \n",
       "7     Male           0.0           0.0            45.0   United-States   >50K  \n",
       "8   Female       14084.0           0.0            50.0   United-States   >50K  \n",
       "9     Male        5178.0           0.0            40.0   United-States   >50K  "
      ]
     },
     "metadata": {},
     "output_type": "display_data"
    }
   ],
   "source": [
    "# Import libraries necessary for this project\n",
    "import numpy as np\n",
    "import pandas as pd\n",
    "from time import time\n",
    "from IPython.display import display # Allows the use of display() for DataFrames\n",
    "\n",
    "# Import supplementary visualization code visuals.py\n",
    "import visuals as vs\n",
    "\n",
    "# Pretty display for notebooks\n",
    "%matplotlib inline\n",
    "\n",
    "# Load the Census dataset\n",
    "data = pd.read_csv(\"census.csv\")\n",
    "\n",
    "# Success - Display the first record\n",
    "display(data.head(n=10))"
   ]
  },
  {
   "cell_type": "markdown",
   "metadata": {},
   "source": [
    "### Implementation: Data Exploration\n",
    "A cursory investigation of the dataset will determine how many individuals fit into either group, and will tell us about the percentage of these individuals making more than \\$50,000. In the code cell below, you will need to compute the following:\n",
    "- The total number of records, `'n_records'`\n",
    "- The number of individuals making more than \\$50,000 annually, `'n_greater_50k'`.\n",
    "- The number of individuals making at most \\$50,000 annually, `'n_at_most_50k'`.\n",
    "- The percentage of individuals making more than \\$50,000 annually, `'greater_percent'`.\n",
    "\n",
    "** HINT: ** You may need to look at the table above to understand how the `'income'` entries are formatted. "
   ]
  },
  {
   "cell_type": "code",
   "execution_count": 2,
   "metadata": {},
   "outputs": [
    {
     "name": "stdout",
     "output_type": "stream",
     "text": [
      "Total number of records: 45222\n",
      "Individuals making more than $50,000: 11208\n",
      "Individuals making at most $50,000: 34014\n",
      "Percentage of individuals making more than $50,000: 24.784%\n"
     ]
    }
   ],
   "source": [
    "# TODO: Total number of records\n",
    "n_records = len(data.index)\n",
    "\n",
    "# TODO: Number of records where individual's income is more than $50,000\n",
    "n_greater_50k =len(data[data['income']=='>50K'])\n",
    "\n",
    "# TODO: Number of records where individual's income is at most $50,000\n",
    "n_at_most_50k = len(data[data['income']=='<=50K'])\n",
    "\n",
    "# TODO: Percentage of individuals whose income is more than $50,000\n",
    "greater_percent =( n_greater_50k / n_records)* 100 \n",
    "\n",
    "# Print the results\n",
    "print(\"Total number of records: {}\".format(n_records))\n",
    "print(\"Individuals making more than $50,000: {}\".format(n_greater_50k))\n",
    "print(\"Individuals making at most $50,000: {}\".format(n_at_most_50k))\n",
    "print(\"Percentage of individuals making more than $50,000: {0:.3f}%\".format(greater_percent))"
   ]
  },
  {
   "cell_type": "markdown",
   "metadata": {},
   "source": [
    "** Featureset Exploration **\n",
    "\n",
    "* **age**: continuous. \n",
    "* **workclass**: Private, Self-emp-not-inc, Self-emp-inc, Federal-gov, Local-gov, State-gov, Without-pay, Never-worked. \n",
    "* **education**: Bachelors, Some-college, 11th, HS-grad, Prof-school, Assoc-acdm, Assoc-voc, 9th, 7th-8th, 12th, Masters, 1st-4th, 10th, Doctorate, 5th-6th, Preschool. \n",
    "* **education-num**: continuous. \n",
    "* **marital-status**: Married-civ-spouse, Divorced, Never-married, Separated, Widowed, Married-spouse-absent, Married-AF-spouse. \n",
    "* **occupation**: Tech-support, Craft-repair, Other-service, Sales, Exec-managerial, Prof-specialty, Handlers-cleaners, Machine-op-inspct, Adm-clerical, Farming-fishing, Transport-moving, Priv-house-serv, Protective-serv, Armed-Forces. \n",
    "* **relationship**: Wife, Own-child, Husband, Not-in-family, Other-relative, Unmarried. \n",
    "* **race**: Black, White, Asian-Pac-Islander, Amer-Indian-Eskimo, Other. \n",
    "* **sex**: Female, Male. \n",
    "* **capital-gain**: continuous. \n",
    "* **capital-loss**: continuous. \n",
    "* **hours-per-week**: continuous. \n",
    "* **native-country**: United-States, Cambodia, England, Puerto-Rico, Canada, Germany, Outlying-US(Guam-USVI-etc), India, Japan, Greece, South, China, Cuba, Iran, Honduras, Philippines, Italy, Poland, Jamaica, Vietnam, Mexico, Portugal, Ireland, France, Dominican-Republic, Laos, Ecuador, Taiwan, Haiti, Columbia, Hungary, Guatemala, Nicaragua, Scotland, Thailand, Yugoslavia, El-Salvador, Trinadad&Tobago, Peru, Hong, Holand-Netherlands."
   ]
  },
  {
   "cell_type": "markdown",
   "metadata": {},
   "source": [
    "----\n",
    "## Preparing the Data\n",
    "Before data can be used as input for machine learning algorithms, it often must be cleaned, formatted, and restructured — this is typically known as **preprocessing**. Fortunately, for this dataset, there are no invalid or missing entries we must deal with, however, there are some qualities about certain features that must be adjusted. This preprocessing can help tremendously with the outcome and predictive power of nearly all learning algorithms."
   ]
  },
  {
   "cell_type": "markdown",
   "metadata": {},
   "source": [
    "### Transforming Skewed Continuous Features\n",
    "A dataset may sometimes contain at least one feature whose values tend to lie near a single number, but will also have a non-trivial number of vastly larger or smaller values than that single number.  Algorithms can be sensitive to such distributions of values and can underperform if the range is not properly normalized. With the census dataset two features fit this description: '`capital-gain'` and `'capital-loss'`. \n",
    "\n",
    "Run the code cell below to plot a histogram of these two features. Note the range of the values present and how they are distributed."
   ]
  },
  {
   "cell_type": "code",
   "execution_count": 3,
   "metadata": {
    "scrolled": true
   },
   "outputs": [
    {
     "name": "stderr",
     "output_type": "stream",
     "text": [
      "C:\\Users\\Ahmad\\Downloads\\cd0025-supervised-learning-master\\starter\\visuals.py:48: UserWarning: Matplotlib is currently using module://ipykernel.pylab.backend_inline, which is a non-GUI backend, so cannot show the figure.\n",
      "  fig.show()\n"
     ]
    },
    {
     "data": {
      "image/png": "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\n",
      "text/plain": [
       "<Figure size 792x360 with 2 Axes>"
      ]
     },
     "metadata": {
      "needs_background": "light"
     },
     "output_type": "display_data"
    }
   ],
   "source": [
    "# Split the data into features and target label\n",
    "income_raw = data['income']\n",
    "features_raw = data.drop('income', axis = 1)\n",
    "\n",
    "# Visualize skewed continuous features of original data\n",
    "vs.distribution(data)"
   ]
  },
  {
   "cell_type": "markdown",
   "metadata": {},
   "source": [
    "For highly-skewed feature distributions such as `'capital-gain'` and `'capital-loss'`, it is common practice to apply a <a href=\"https://en.wikipedia.org/wiki/Data_transformation_(statistics)\">logarithmic transformation</a> on the data so that the very large and very small values do not negatively affect the performance of a learning algorithm. Using a logarithmic transformation significantly reduces the range of values caused by outliers. Care must be taken when applying this transformation however: The logarithm of `0` is undefined, so we must translate the values by a small amount above `0` to apply the the logarithm successfully.\n",
    "\n",
    "Run the code cell below to perform a transformation on the data and visualize the results. Again, note the range of values and how they are distributed. "
   ]
  },
  {
   "cell_type": "code",
   "execution_count": 4,
   "metadata": {},
   "outputs": [
    {
     "data": {
      "image/png": "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\n",
      "text/plain": [
       "<Figure size 792x360 with 2 Axes>"
      ]
     },
     "metadata": {
      "needs_background": "light"
     },
     "output_type": "display_data"
    }
   ],
   "source": [
    "# Log-transform the skewed features\n",
    "skewed = ['capital-gain', 'capital-loss']\n",
    "features_log_transformed = pd.DataFrame(data = features_raw)\n",
    "features_log_transformed[skewed] = features_raw[skewed].apply(lambda x: np.log(x + 1))\n",
    "\n",
    "# Visualize the new log distributions\n",
    "vs.distribution(features_log_transformed, transformed = True)"
   ]
  },
  {
   "cell_type": "markdown",
   "metadata": {},
   "source": [
    "### Normalizing Numerical Features\n",
    "In addition to performing transformations on features that are highly skewed, it is often good practice to perform some type of scaling on numerical features. Applying a scaling to the data does not change the shape of each feature's distribution (such as `'capital-gain'` or `'capital-loss'` above); however, normalization ensures that each feature is treated equally when applying supervised learners. Note that once scaling is applied, observing the data in its raw form will no longer have the same original meaning, as exampled below.\n",
    "\n",
    "Run the code cell below to normalize each numerical feature. We will use [`sklearn.preprocessing.MinMaxScaler`](http://scikit-learn.org/stable/modules/generated/sklearn.preprocessing.MinMaxScaler.html) for this."
   ]
  },
  {
   "cell_type": "code",
   "execution_count": 5,
   "metadata": {},
   "outputs": [
    {
     "data": {
      "text/html": [
       "<div>\n",
       "<style scoped>\n",
       "    .dataframe tbody tr th:only-of-type {\n",
       "        vertical-align: middle;\n",
       "    }\n",
       "\n",
       "    .dataframe tbody tr th {\n",
       "        vertical-align: top;\n",
       "    }\n",
       "\n",
       "    .dataframe thead th {\n",
       "        text-align: right;\n",
       "    }\n",
       "</style>\n",
       "<table border=\"1\" class=\"dataframe\">\n",
       "  <thead>\n",
       "    <tr style=\"text-align: right;\">\n",
       "      <th></th>\n",
       "      <th>age</th>\n",
       "      <th>workclass</th>\n",
       "      <th>education_level</th>\n",
       "      <th>education-num</th>\n",
       "      <th>marital-status</th>\n",
       "      <th>occupation</th>\n",
       "      <th>relationship</th>\n",
       "      <th>race</th>\n",
       "      <th>sex</th>\n",
       "      <th>capital-gain</th>\n",
       "      <th>capital-loss</th>\n",
       "      <th>hours-per-week</th>\n",
       "      <th>native-country</th>\n",
       "    </tr>\n",
       "  </thead>\n",
       "  <tbody>\n",
       "    <tr>\n",
       "      <th>0</th>\n",
       "      <td>0.301370</td>\n",
       "      <td>State-gov</td>\n",
       "      <td>Bachelors</td>\n",
       "      <td>0.800000</td>\n",
       "      <td>Never-married</td>\n",
       "      <td>Adm-clerical</td>\n",
       "      <td>Not-in-family</td>\n",
       "      <td>White</td>\n",
       "      <td>Male</td>\n",
       "      <td>0.667492</td>\n",
       "      <td>0.0</td>\n",
       "      <td>0.397959</td>\n",
       "      <td>United-States</td>\n",
       "    </tr>\n",
       "    <tr>\n",
       "      <th>1</th>\n",
       "      <td>0.452055</td>\n",
       "      <td>Self-emp-not-inc</td>\n",
       "      <td>Bachelors</td>\n",
       "      <td>0.800000</td>\n",
       "      <td>Married-civ-spouse</td>\n",
       "      <td>Exec-managerial</td>\n",
       "      <td>Husband</td>\n",
       "      <td>White</td>\n",
       "      <td>Male</td>\n",
       "      <td>0.000000</td>\n",
       "      <td>0.0</td>\n",
       "      <td>0.122449</td>\n",
       "      <td>United-States</td>\n",
       "    </tr>\n",
       "    <tr>\n",
       "      <th>2</th>\n",
       "      <td>0.287671</td>\n",
       "      <td>Private</td>\n",
       "      <td>HS-grad</td>\n",
       "      <td>0.533333</td>\n",
       "      <td>Divorced</td>\n",
       "      <td>Handlers-cleaners</td>\n",
       "      <td>Not-in-family</td>\n",
       "      <td>White</td>\n",
       "      <td>Male</td>\n",
       "      <td>0.000000</td>\n",
       "      <td>0.0</td>\n",
       "      <td>0.397959</td>\n",
       "      <td>United-States</td>\n",
       "    </tr>\n",
       "    <tr>\n",
       "      <th>3</th>\n",
       "      <td>0.493151</td>\n",
       "      <td>Private</td>\n",
       "      <td>11th</td>\n",
       "      <td>0.400000</td>\n",
       "      <td>Married-civ-spouse</td>\n",
       "      <td>Handlers-cleaners</td>\n",
       "      <td>Husband</td>\n",
       "      <td>Black</td>\n",
       "      <td>Male</td>\n",
       "      <td>0.000000</td>\n",
       "      <td>0.0</td>\n",
       "      <td>0.397959</td>\n",
       "      <td>United-States</td>\n",
       "    </tr>\n",
       "    <tr>\n",
       "      <th>4</th>\n",
       "      <td>0.150685</td>\n",
       "      <td>Private</td>\n",
       "      <td>Bachelors</td>\n",
       "      <td>0.800000</td>\n",
       "      <td>Married-civ-spouse</td>\n",
       "      <td>Prof-specialty</td>\n",
       "      <td>Wife</td>\n",
       "      <td>Black</td>\n",
       "      <td>Female</td>\n",
       "      <td>0.000000</td>\n",
       "      <td>0.0</td>\n",
       "      <td>0.397959</td>\n",
       "      <td>Cuba</td>\n",
       "    </tr>\n",
       "  </tbody>\n",
       "</table>\n",
       "</div>"
      ],
      "text/plain": [
       "        age          workclass education_level  education-num  \\\n",
       "0  0.301370          State-gov       Bachelors       0.800000   \n",
       "1  0.452055   Self-emp-not-inc       Bachelors       0.800000   \n",
       "2  0.287671            Private         HS-grad       0.533333   \n",
       "3  0.493151            Private            11th       0.400000   \n",
       "4  0.150685            Private       Bachelors       0.800000   \n",
       "\n",
       "        marital-status          occupation    relationship    race      sex  \\\n",
       "0        Never-married        Adm-clerical   Not-in-family   White     Male   \n",
       "1   Married-civ-spouse     Exec-managerial         Husband   White     Male   \n",
       "2             Divorced   Handlers-cleaners   Not-in-family   White     Male   \n",
       "3   Married-civ-spouse   Handlers-cleaners         Husband   Black     Male   \n",
       "4   Married-civ-spouse      Prof-specialty            Wife   Black   Female   \n",
       "\n",
       "   capital-gain  capital-loss  hours-per-week  native-country  \n",
       "0      0.667492           0.0        0.397959   United-States  \n",
       "1      0.000000           0.0        0.122449   United-States  \n",
       "2      0.000000           0.0        0.397959   United-States  \n",
       "3      0.000000           0.0        0.397959   United-States  \n",
       "4      0.000000           0.0        0.397959            Cuba  "
      ]
     },
     "metadata": {},
     "output_type": "display_data"
    }
   ],
   "source": [
    "# Import sklearn.preprocessing.StandardScaler\n",
    "from sklearn.preprocessing import MinMaxScaler\n",
    "\n",
    "# Initialize a scaler, then apply it to the features\n",
    "scaler = MinMaxScaler() # default=(0, 1)\n",
    "numerical = ['age', 'education-num', 'capital-gain', 'capital-loss', 'hours-per-week']\n",
    "\n",
    "features_log_minmax_transform = pd.DataFrame(data = features_log_transformed)\n",
    "features_log_minmax_transform[numerical] = scaler.fit_transform(features_log_transformed[numerical])\n",
    "\n",
    "# Show an example of a record with scaling applied\n",
    
   ]
  },
  {
   "cell_type": "markdown",
   "metadata": {},
   "source": [
    "### Implementation: Data Preprocessing\n",
    "\n",
    "From the table in **Exploring the Data** above, we can see there are several features for each record that are non-numeric. Typically, learning algorithms expect input to be numeric, which requires that non-numeric features (called *categorical variables*) be converted. One popular way to convert categorical variables is by using the **one-hot encoding** scheme. One-hot encoding creates a _\"dummy\"_ variable for each possible category of each non-numeric feature. For example, assume `someFeature` has three possible entries: `A`, `B`, or `C`. We then encode this feature into `someFeature_A`, `someFeature_B` and `someFeature_C`.\n",
    "\n",
    "|   | someFeature |                    | someFeature_A | someFeature_B | someFeature_C |\n",
    "| :-: | :-: |                            | :-: | :-: | :-: |\n",
    "| 0 |  B  |  | 0 | 1 | 0 |\n",
    "| 1 |  C  | ----> one-hot encode ----> | 0 | 0 | 1 |\n",
    "| 2 |  A  |  | 1 | 0 | 0 |\n",
    "\n",
    "Additionally, as with the non-numeric features, we need to convert the non-numeric target label, `'income'` to numerical values for the learning algorithm to work. Since there are only two possible categories for this label (\"<=50K\" and \">50K\"), we can avoid using one-hot encoding and simply encode these two categories as `0` and `1`, respectively. In code cell below, you will need to implement the following:\n",
    " - Use [`pandas.get_dummies()`](http://pandas.pydata.org/pandas-docs/stable/generated/pandas.get_dummies.html?highlight=get_dummies#pandas.get_dummies) to perform one-hot encoding on the `'features_log_minmax_transform'` data.\n",
    " - Convert the target label `'income_raw'` to numerical entries.\n",
    "   - Set records with \"<=50K\" to `0` and records with \">50K\" to `1`."
   ]
  },
  {
   "cell_type": "code",
   "execution_count": 6,
   "metadata": {
    "scrolled": true
   },
   "outputs": [
    {
     "name": "stdout",
     "output_type": "stream",
     "text": [
      "103 total features after one-hot encoding.\n"
     ]
    }
   ],
   "source": [
    "# TODO: One-hot encode the 'features_log_minmax_transform' data using pandas.get_dummies()\n",
    "features_final = pd.get_dummies(features_log_minmax_transform)\n",
    "\n",
    "# TODO: Encode the 'income_raw' data to numerical values\n",
    "income = income_raw.apply(lambda income_value: 1 if income_value == '>50K' else 0)\n",
    "\n",
    "# Print the number of features after one-hot encoding\n",
    "encoded = list(features_final.columns)\n",
    "print(\"{} total features after one-hot encoding.\".format(len(encoded)))\n",
    "\n",
    "# Uncomment the following line to see the encoded feature names\n",
    "# print encoded"
   ]
  },
  {
   "cell_type": "markdown",
   "metadata": {},
   "source": [
    "### Shuffle and Split Data\n",
    "Now all _categorical variables_ have been converted into numerical features, and all numerical features have been normalized. As always, we will now split the data (both features and their labels) into training and test sets. 80% of the data will be used for training and 20% for testing.\n",
    "\n",
    "Run the code cell below to perform this split."
   ]
  },
  {
   "cell_type": "code",
   "execution_count": 7,
   "metadata": {},
   "outputs": [
    {
     "name": "stdout",
     "output_type": "stream",
     "text": [
      "Training set has 36177 samples.\n",
      "Testing set has 9045 samples.\n"
     ]
    }
   ],
   "source": [
    "# Import train_test_split\n",
    "from sklearn.model_selection import train_test_split\n",
    "\n",
    "# Split the 'features' and 'income' data into training and testing sets\n",
    "X_train, X_test, y_train, y_test = train_test_split(features_final, \n",
    "                                                    income, \n",
    "                                                    test_size = 0.2, \n",
    "                                                    random_state = 0)\n",
    "\n",
    "# Show the results of the split\n",
    "print(\"Training set has {} samples.\".format(X_train.shape[0]))\n",
    "print(\"Testing set has {} samples.\".format(X_test.shape[0]))"
   ]
  },
  {
   "cell_type": "markdown",
   "metadata": {},
   "source": [
    "----\n",
    "## Evaluating Model Performance\n",
    "In this section, we will investigate four different algorithms, and determine which is best at modeling the data. Three of these algorithms will be supervised learners of your choice, and the fourth algorithm is known as a *naive predictor*."
   ]
  },
  {
   "cell_type": "markdown",
   "metadata": {},
   "source": [
    "### Metrics and the Naive Predictor\n",
    "*CharityML*, equipped with their research, knows individuals that make more than \\$50,000 are most likely to donate to their charity. Because of this, *CharityML* is particularly interested in predicting who makes more than \\$50,000 accurately. It would seem that using **accuracy** as a metric for evaluating a particular model's performace would be appropriate. Additionally, identifying someone that *does not* make more than \\$50,000 as someone who does would be detrimental to *CharityML*, since they are looking to find individuals willing to donate. Therefore, a model's ability to precisely predict those that make more than \\$50,000 is *more important* than the model's ability to **recall** those individuals. We can use **F-beta score** as a metric that considers both precision and recall:\n",
    "\n",
    "$$ F_{\\beta} = (1 + \\beta^2) \\cdot \\frac{precision \\cdot recall}{\\left( \\beta^2 \\cdot precision \\right) + recall} $$\n",
    "\n",
    "In particular, when $\\beta = 0.5$, more emphasis is placed on precision. This is called the **F$_{0.5}$ score** (or F-score for simplicity).\n",
    "\n",
    "Looking at the distribution of classes (those who make at most \\$50,000, and those who make more), it's clear most individuals do not make more than \\$50,000. This can greatly affect **accuracy**, since we could simply say *\"this person does not make more than \\$50,000\"* and generally be right, without ever looking at the data! Making such a statement would be called **naive**, since we have not considered any information to substantiate the claim. It is always important to consider the *naive prediction* for your data, to help establish a benchmark for whether a model is performing well. That been said, using that prediction would be pointless: If we predicted all people made less than \\$50,000, *CharityML* would identify no one as donors. \n",
    "\n",
    "\n",
    "#### Note: Recap of accuracy, precision, recall\n",
    "\n",
    "** Accuracy ** measures how often the classifier makes the correct prediction. It’s the ratio of the number of correct predictions to the total number of predictions (the number of test data points).\n",
    "\n",
    "** Precision ** tells us what proportion of messages we classified as spam, actually were spam.\n",
    "It is a ratio of true positives(words classified as spam, and which are actually spam) to all positives(all words classified as spam, irrespective of whether that was the correct classificatio), in other words it is the ratio of\n",
    "\n",
    "`[True Positives/(True Positives + False Positives)]`\n",
    "\n",
    "** Recall(sensitivity)** tells us what proportion of messages that actually were spam were classified by us as spam.\n",
    "It is a ratio of true positives(words classified as spam, and which are actually spam) to all the words that were actually spam, in other words it is the ratio of\n",
    "\n",
    "`[True Positives/(True Positives + False Negatives)]`\n",
    "\n",
    "For classification problems that are skewed in their classification distributions like in our case, for example if we had a 100 text messages and only 2 were spam and the rest 98 weren't, accuracy by itself is not a very good metric. We could classify 90 messages as not spam(including the 2 that were spam but we classify them as not spam, hence they would be false negatives) and 10 as spam(all 10 false positives) and still get a reasonably good accuracy score. For such cases, precision and recall come in very handy. These two metrics can be combined to get the F1 score, which is weighted average(harmonic mean) of the precision and recall scores. This score can range from 0 to 1, with 1 being the best possible F1 score(we take the harmonic mean as we are dealing with ratios)."
   ]
  },
  {
   "cell_type": "markdown",
   "metadata": {},
   "source": [
    "### Question 1 - Naive Predictor Performace\n",
    "* If we chose a model that always predicted an individual made more than $50,000, what would  that model's accuracy and F-score be on this dataset? You must use the code cell below and assign your results to `'accuracy'` and `'fscore'` to be used later.\n",
    "\n",
    "** Please note ** that the the purpose of generating a naive predictor is simply to show what a base model without any intelligence would look like. In the real world, ideally your base model would be either the results of a previous model or could be based on a research paper upon which you are looking to improve. When there is no benchmark model set, getting a result better than random choice is a place you could start from.\n",
    "\n",
    "** HINT: ** \n",
    "\n",
    "* When we have a model that always predicts '1' (i.e. the individual makes more than 50k) then our model will have no True Negatives(TN) or False Negatives(FN) as we are not making any negative('0' value) predictions. Therefore our Accuracy in this case becomes the same as our Precision(True Positives/(True Positives + False Positives)) as every prediction that we have made with value '1' that should have '0' becomes a False Positive; therefore our denominator in this case is the total number of records we have in total. \n",
    "* Our Recall score(True Positives/(True Positives + False Negatives)) in this setting becomes 1 as we have no False Negatives."
   ]
  },
  {
   "cell_type": "code",
   "execution_count": 8,
   "metadata": {},
   "outputs": [
    {
     "name": "stdout",
     "output_type": "stream",
     "text": [
      "Naive Predictor: [Accuracy score: 0.2478, F-score: 0.2917]\n"
     ]
    }
   ],
   "source": [
    "'''\n",
    "TP = np.sum(income) # Counting the ones as this is the naive case. Note that 'income' is the 'income_raw' data \n",
    "encoded to numerical values done in the data preprocessing step.\n",
    "FP = income.count() - TP # Specific to the naive case\n",
    "\n",
    "TN = 0 # No predicted negatives in the naive case\n",
    "FN = 0 # No predicted negatives in the naive case\n",
    "'''\n",
    "TP = np.sum(income)\n",
    "FP = income.count() - TP\n",
    "TN = 0\n",
    "FN = 0\n",
    "\n",
    "# TODO: Calculate accuracy, precision and recall\n",
    "accuracy = float(TP) / len(income)\n",
    "recall = float(TP) / (TP + FN)\n",
    "precision = float(TP) / (TP + FP)\n",
    "\n",
    "# TODO: Calculate F-score using the formula above for beta = 0.5 and correct values for precision and recall.\n",
    "beta = 0.5\n",
    "fscore = (1+ beta**2) * ( recall * precision) / ((precision * beta ** 2) + recall)\n",
    "\n",
    "\n",
    "# Print the results \n",
    "print(\"Naive Predictor: [Accuracy score: {:.4f}, F-score: {:.4f}]\".format(accuracy, fscore))"
   ]
  },
  {
   "cell_type": "markdown",
   "metadata": {},
   "source": [
    "###  Supervised Learning Models\n",
    "**The following are some of the supervised learning models that are currently available in** [`scikit-learn`](http://scikit-learn.org/stable/supervised_learning.html) **that you may choose from:**\n",
    "- Gaussian Naive Bayes (GaussianNB)\n",
    "- Decision Trees\n",
    "- Ensemble Methods (Bagging, AdaBoost, Random Forest, Gradient Boosting)\n",
    "- K-Nearest Neighbors (KNeighbors)\n",
    "- Stochastic Gradient Descent Classifier (SGDC)\n",
    "- Support Vector Machines (SVM)\n",
    "- Logistic Regression"
   ]
  },
  {
   "cell_type": "markdown",
   "metadata": {},
   "source": [
    "### Question 2 - Model Application\n",
    "List three of the supervised learning models above that are appropriate for this problem that you will test on the census data. For each model chosen\n",
    "\n",
    "- Describe one real-world application in industry where the model can be applied. \n",
    "- What are the strengths of the model; when does it perform well?\n",
    "- What are the weaknesses of the model; when does it perform poorly?\n",
    "- What makes this model a good candidate for the problem, given what you know about the data?\n",
    "\n",
    "** HINT: **\n",
    "\n",
    "Structure your answer in the same format as above^, with 4 parts for each of the three models you pick. Please include references with your answer."
   ]
  },
  {
   "cell_type": "markdown",
   "metadata": {},
   "source": [
    "**Answer: **\n",
    "\n",
    "# Naive Bayes\n",
    "\n",
    " this algorithm offers plenty of advantages to its users. That’s why it has a lot of applications in various sectors too. Here are some applications of Naive Bayes algorithm:\n",
    "\n",
    "As this algorithm is fast and efficient, you can use it to make real-time predictions.\n",
    "This algorithm is popular for multi-class predictions. You can find the probability of multiple target classes easily by using this algorithm.\n",
    "Email services (like Gmail) use this algorithm to figure out whether an email is a spam or not. This algorithm is excellent for spam filtering.\n",
    "Its assumption of feature independence, and its effectiveness in solving multi-class problems, makes it perfect for performing Sentiment Analysis. Sentiment Analysis refers to the identification of positive or negative sentiments of a target group (customers, audience, etc.)\n",
    "Collaborative Filtering and the Naive Bayes algorithm work together to build recommendation systems. These systems use data mining and machine learning to predict if the user would like a particular resource or not. \n",
    "\n",
    "### strengths \n",
    "This algorithm works very fast and can easily predict the class of a test dataset. \n",
    "You can use it to solve multi-class prediction problems as it’s quite useful with them. \n",
    " Naive Bayes classifier performs better than other models with less training data if the assumption of independence of features holds. \n",
    "If you have categorical input variables, the Naive Bayes algorithm performs exceptionally well in comparison to numerical variables.\n",
    "\n",
    "### weaknesses\n",
    "If your test data set has a categorical variable of a category that wasn’t present in the training data set, the Naive Bayes model will assign it zero probability and won’t be able to make any predictions in this regard. This phenomenon is called ‘Zero Frequency,’ and you’ll have to use a smoothing technique to solve this problem.\n",
    "This algorithm is also notorious as a lousy estimator. So, you shouldn’t take the probability outputs of ‘predict_proba’ too seriously. \n",
    "It assumes that all the features are independent. While it might sound great in theory, in real life, you’ll hardly find a set of independent features. \n",
    "\n",
    "\n",
    "### Reasons for choosing\n",
    "\n",
    "In our situation, there are several categorical features that a naive Bayes model can handle well. A Gaussian Naive Bayes model requires a normally distributed dataset in addition to the other requirements. Because it operates in linear time, the naive Bayes model can work efficiently with our dataset training size of 36177 samples.\n",
    "\n",
    "# AdaBoost \n",
    "\n",
    "AdaBoost may be used to tackle a range of real-world problems, such as predicting customer churn and categorising the types of topics customers are talking about or calling about. The technique is often used to solve classification issues.\n",
    "\n",
    "### strengths \n",
    "\n",
    "For cascading, you make excellent use of weak classifiers.\n",
    "As weak classifiers, various classification algorithms can be utilised;\n",
    "AdaBoost offers a high level of accuracy.\n",
    "AdaBoost fully considers the weight of each classifier, unlike the bagging algorithm and the Random ForestAlgorithm.\n",
    "\n",
    "### weaknesses\n",
    "\n",
    "Cross-validation can be used to identify the number of AdaBoost iterations, which is also a poorly set number of weak classifiers.\n",
    "Classification accuracy suffers as a result of data imbalance.\n",
    "Training takes time, so it's preferable to take a break after each reselection of the current classifier.\n",
    "\n",
    "### Reasons for choosing\n",
    "\n",
    "Because our problem dataset is so well-organized, our ensemble method is a good fit.\n",
    "\n",
    "## Logistic regression\n",
    "\n",
    "A business wants to know whether word count and country of origin impact the probability that an email is spam. To understand the relationship between these two predictor variables and the probability of an email being spam, researchers can perform logistic regression.\n",
    "Researchers want to know how GPA, ACT score, and number of AP classes taken impact the probability of getting accepted into a particular university. To understand the relationship between the predictor variables and the probability of getting accepted, researchers can perform logistic regression.\n",
    "Medical researchers want to know how exercise and weight impact the probability of having a heart attack. To understand the relationship between the predictor variables and the probability of having a heart attack, researchers can perform logistic regression.\n",
    "### strengths \n",
    "Logistic regression is easier to implement, interpret, and very efficient to train.\n",
    "It makes no assumptions about distributions of classes in feature space.\n",
    "It can easily extend to multiple classes(multinomial regression) and a natural probabilistic view of class predictions.\n",
    "Good accuracy for many simple data sets and it performs well when the dataset is linearly separable.\n",
    "### weaknesses\n",
    "If the number of observations is lesser than the number of features, Logistic Regression should not be used, otherwise, it may lead to overfitting.\n",
    "It constructs linear boundaries.\n",
    "The major limitation of Logistic Regression is the assumption of linearity between the dependent variable and the independent variables.\n",
    "Logistic Regression requires average or no multicollinearity between independent variables.\n",
    "### Reasons for choosing\n",
    "Predicting a categorey (works with classification)\n",
    "Sample size is less than 100k.\n",
    "Works well with large feature sets \n",
    "\n",
    "## References\n",
    "(https://www.upgrad.com/blog/naive-bayes-classifier/#Applications_of_Naive_Bayes_Algorithm)(https://www.statology.org/logistic-regression-real-life-examples/)\n",
    "(https://www.geeksforgeeks.org/advantages-and-disadvantages-of-logistic-regression/)\n",
    "(https://scikit-learn.org/stable/modules/naive_bayes.html)\n",
    "(https://scikit-learn.org/stable/modules/generated/sklearn.ensemble.AdaBoostClassifier.html)"
   ]
  },
  {
   "cell_type": "markdown",
   "metadata": {},
   "source": [
    "### Implementation - Creating a Training and Predicting Pipeline\n",
    "To properly evaluate the performance of each model you've chosen, it's important that you create a training and predicting pipeline that allows you to quickly and effectively train models using various sizes of training data and perform predictions on the testing data. Your implementation here will be used in the following section.\n",
    "In the code block below, you will need to implement the following:\n",
    " - Import `fbeta_score` and `accuracy_score` from [`sklearn.metrics`](http://scikit-learn.org/stable/modules/classes.html#sklearn-metrics-metrics).\n",
    " - Fit the learner to the sampled training data and record the training time.\n",
    " - Perform predictions on the test data `X_test`, and also on the first 300 training points `X_train[:300]`.\n",
    "   - Record the total prediction time.\n",
    " - Calculate the accuracy score for both the training subset and testing set.\n",
    " - Calculate the F-score for both the training subset and testing set.\n",
    "   - Make sure that you set the `beta` parameter!"
   ]
  },
  {
   "cell_type": "code",
   "execution_count": 9,
   "metadata": {},
   "outputs": [],
   "source": [
    "# TODO: Import two metrics from sklearn - fbeta_score and accuracy_score\n",
    "from sklearn.metrics import fbeta_score\n",
    "from sklearn.metrics import accuracy_score\n",
    "\n",
    "def train_predict(learner, sample_size, X_train, y_train, X_test, y_test): \n",
    "    '''\n",
    "    inputs:\n",
    "       - learner: the learning algorithm to be trained and predicted on\n",
    "       - sample_size: the size of samples (number) to be drawn from training set\n",
    "       - X_train: features training set\n",
    "       - y_train: income training set\n",
    "       - X_test: features testing set\n",
    "       - y_test: income testing set\n",
    "    '''\n",
    "    \n",
    "    results = {}\n",
    "    \n",
    "    # TODO: Fit the learner to the training data using slicing with 'sample_size' using .fit(training_features[:], training_labels[:])\n",
    "    start = time() # Get start time\n",
    "    learner = learner.fit(X_train[:sample_size], y_train[:sample_size])\n",
    "    end = time() # Get end time\n",
    "    \n",
    "    # TODO: Calculate the training time\n",
    "    results['train_time'] = end - start\n",
    "        \n",
    "    # TODO: Get the predictions on the test set(X_test),\n",
    "    #       then get predictions on the first 300 training samples(X_train) using .predict()\n",
    "    start = time() # Get start time\n",
    "    predictions_test = learner.predict(X_test)\n",
    "    predictions_train = learner.predict(X_train[:300])\n",
    "    end = time() # Get end time\n",
    "    \n",
    "    # TODO: Calculate the total prediction time\n",
    "    results['pred_time'] = end - start\n",
    "            \n",
    "    # TODO: Compute accuracy on the first 300 training samples which is y_train[:300]\n",
    "    results['acc_train'] = accuracy_score(y_train[:300], predictions_train)\n",
    "        \n",
    "    # TODO: Compute accuracy on test set using accuracy_score()\n",
    "    results['acc_test'] = accuracy_score(y_test, predictions_test)\n",
    "    \n",
    "    # TODO: Compute F-score on the the first 300 training samples using fbeta_score()\n",
    "    results['f_train'] = fbeta_score(y_train[:300], predictions_train[:300], beta = beta)\n",
    "        \n",
    "    # TODO: Compute F-score on the test set which is y_test\n",
    "    results['f_test'] = fbeta_score(y_test, predictions_test, beta = beta)\n",
    "       \n",
    "    # Success\n",
    "    print(\"{} trained on {} samples.\".format(learner.__class__.__name__, sample_size))\n",
    "        \n",
    "    # Return the results\n",
    "    return results"
   ]
  },
  {
   "cell_type": "markdown",
   "metadata": {},
   "source": [
    "### Implementation: Initial Model Evaluation\n",
    "In the code cell, you will need to implement the following:\n",
    "- Import the three supervised learning models you've discussed in the previous section.\n",
    "- Initialize the three models and store them in `'clf_A'`, `'clf_B'`, and `'clf_C'`.\n",
    "  - Use a `'random_state'` for each model you use, if provided.\n",
    "  - **Note:** Use the default settings for each model — you will tune one specific model in a later section.\n",
    "- Calculate the number of records equal to 1%, 10%, and 100% of the training data.\n",
    "  - Store those values in `'samples_1'`, `'samples_10'`, and `'samples_100'` respectively.\n",
    "\n",
    "**Note:** Depending on which algorithms you chose, the following implementation may take some time to run!"
   ]
  },
  {
   "cell_type": "code",
   "execution_count": 10,
   "metadata": {},
   "outputs": [
    {
     "name": "stdout",
     "output_type": "stream",
     "text": [
      "AdaBoostClassifier trained on 361 samples.\n",
      "AdaBoostClassifier trained on 3617 samples.\n",
      "AdaBoostClassifier trained on 36177 samples.\n",
      "LogisticRegression trained on 361 samples.\n",
      "LogisticRegression trained on 3617 samples.\n"
     ]
    },
    {
     "name": "stderr",
     "output_type": "stream",
     "text": [
      "C:\\Users\\Ahmad\\anaconda3\\lib\\site-packages\\sklearn\\linear_model\\_logistic.py:762: ConvergenceWarning: lbfgs failed to converge (status=1):\n",
      "STOP: TOTAL NO. of ITERATIONS REACHED LIMIT.\n",
      "\n",
      "Increase the number of iterations (max_iter) or scale the data as shown in:\n",
      "    https://scikit-learn.org/stable/modules/preprocessing.html\n",
      "Please also refer to the documentation for alternative solver options:\n",
      "    https://scikit-learn.org/stable/modules/linear_model.html#logistic-regression\n",
      "  n_iter_i = _check_optimize_result(\n"
     ]
    },
    {
     "name": "stdout",
     "output_type": "stream",
     "text": [
      "LogisticRegression trained on 36177 samples.\n",
      "GaussianNB trained on 361 samples.\n",
      "GaussianNB trained on 3617 samples.\n",
      "GaussianNB trained on 36177 samples.\n"
     ]
    },
    {
     "name": "stderr",
     "output_type": "stream",
     "text": [
      "C:\\Users\\Ahmad\\Downloads\\cd0025-supervised-learning-master\\starter\\visuals.py:121: UserWarning: Tight layout not applied. tight_layout cannot make axes width small enough to accommodate all axes decorations\n",
      "  pl.tight_layout()\n"
     ]
    },
    {
     "data": {
      "image/png": "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\n",
      "text/plain": [
       "<Figure size 792x576 with 6 Axes>"
      ]
     },
     "metadata": {
      "needs_background": "light"
     },
     "output_type": "display_data"
    }
   ],
   "source": [
    "# TODO: Import the three supervised learning models from sklearn\n",
    "from sklearn.linear_model import LogisticRegression\n",
    "from sklearn.ensemble import AdaBoostClassifier\n",
    "from sklearn.tree import DecisionTreeClassifier\n",
    "from sklearn.naive_bayes import GaussianNB\n",
    "from sklearn import svm\n",
    "\n",
    "# TODO: Initialize the three models\n",
    "clf_A = AdaBoostClassifier(random_state=10)\n",
    "clf_B = LogisticRegression(random_state=10)\n",
    "clf_C = GaussianNB()\n",
    "\n",
    "\n",
    "# TODO: Calculate the number of samples for 1%, 10%, and 100% of the training data\n",
    "# HINT: samples_100 is the entire training set i.e. len(y_train)\n",
    "# HINT: samples_10 is 10% of samples_100 (ensure to set the count of the values to be `int` and not `float`)\n",
    "# HINT: samples_1 is 1% of samples_100 (ensure to set the count of the values to be `int` and not `float`)\n",
    "samples_100 = len(y_train)\n",
    "samples_10 = int(len(y_train)/10)\n",
    "samples_1 = int(len(y_train)/100)\n",
    "\n",
    "# Collect results on the learners\n",
    "results = {}\n",
    "for clf in [clf_A, clf_B, clf_C]:\n",
    "    clf_name = clf.__class__.__name__\n",
    "    results[clf_name] = {}\n",
    "    for i, samples in enumerate([samples_1, samples_10, samples_100]):\n",
    "        results[clf_name][i] = \\\n",
    "        train_predict(clf, samples, X_train, y_train, X_test, y_test)\n",
    "\n",
    "# Run metrics visualization for the three supervised learning models chosen\n",
    "vs.evaluate(results, accuracy, fscore)"
   ]
  },
  {
   "cell_type": "markdown",
   "metadata": {},
   "source": [
    "----\n",
    "## Improving Results\n",
    "In this final section, you will choose from the three supervised learning models the *best* model to use on the student data. You will then perform a grid search optimization for the model over the entire training set (`X_train` and `y_train`) by tuning at least one parameter to improve upon the untuned model's F-score. "
   ]
  },
  {
   "cell_type": "markdown",
   "metadata": {},
   "source": [
    "### Question 3 - Choosing the Best Model\n",
    "\n",
    "* Based on the evaluation you performed earlier, in one to two paragraphs, explain to *CharityML* which of the three models you believe to be most appropriate for the task of identifying individuals that make more than \\$50,000. \n",
    "\n",
    "** HINT: ** \n",
    "Look at the graph at the bottom left from the cell above(the visualization created by `vs.evaluate(results, accuracy, fscore)`) and check the F score for the testing set when 100% of the training set is used. Which model has the highest score? Your answer should include discussion of the:\n",
    "* metrics - F score on the testing when 100% of the training data is used, \n",
    "* prediction/training time\n",
    "* the algorithm's suitability for the data."
   ]
  },
  {
   "cell_type": "markdown",
   "metadata": {},
   "source": [
    "**Answer: ** \n",
    "### metrics - F score on the testing when 100% of the training data is used\n",
    "after choosing a three models the best one is the AdaBoostClassifier.\n",
    "F-Score: When 100% of the training set is used, the relative F-scores are as follows:\n",
    "*AdaBoostClassifier\n",
    "    f_train =  0.711538\n",
    "    f_test  =  0.724551\n",
    "    \n",
    "    \n",
    "*LogisticRegression\n",
    "    f_train =  0.690299\n",
    "    f_test  =  0.683449\n",
    "    \n",
    "    \n",
    "*GaussianNB\n",
    "    f_train =  0.412500\n",
    "    f_test  =  0.420899\n",
    "    \n",
    "    \n",
    "AdaBoostClassifier provides the best results with respect to F-score, achieving 71.1%. LogisticRegression is second best, delivering 69.0%. However, F-score alone is not all that should be taken into consideration, as the prediction and training time is also of importance.\n",
    "\n",
    "### prediction/training time\n",
    "\n",
    "On all samples, including the complete training set, the model performed rather swiftly compared to the other two algorithms. When compared to our LogisticRegression model, AdaBoost was able to iterate swiftly over the whole training set. Although AdaBoost couldn't equal the speed of our Gaussian Naive Bayes model, it came close.\n",
    "### the algorithm's suitability for the data\n",
    "The algorithm predicts with an f-score of 0.71 and an accuracy of more than 85.00 percent on the testing set, which is promising for CharityML. For the training set size of 31677, the training and testing time was fair if the model was to be replicated. In this case, AdaBoost has an excellent balance of performance and speed.\n"
   ]
  },
  {
   "cell_type": "markdown",
   "metadata": {},
   "source": [
    "### Question 4 - Describing the Model in Layman's Terms\n",
    "\n",
    "* In one to two paragraphs, explain to *CharityML*, in layman's terms, how the final model chosen is supposed to work. Be sure that you are describing the major qualities of the model, such as how the model is trained and how the model makes a prediction. Avoid using advanced mathematical jargon, such as describing equations.\n",
    "\n",
    "** HINT: **\n",
    "\n",
    "When explaining your model, if using external resources please include all citations."
   ]
  },
  {
   "cell_type": "markdown",
   "metadata": {},
   "source": [
    "**Answer: ** \n",
    "\n",
    "\n",
    "After evaluating three distinct models, AdaBoost was chosen as the final model. AdaBoost, which stands for Adaptive Boosting, is a machine learning algorithm developed by Yoav Freund and Robert Schapire. AdaBoost is used to build classifiers, and the algorithm works by taking a set of data and attempting to categorise and predict which elements belong to which class. AdaBoost is a strong/Boost learner that combines several weak algorithms to create a single stroner learning algorithm with higher accuracy than weak learners. AdaBoost is a quick learning algorithm that works with big data sets and may be used with any learning technique.\n",
    "\n",
    "The AdaBoost algorithm works by taking data and attempting to identify and forecast the calsses or characteristics. Then it checks if the classification is correct and looks for misclassification errors, then repeats the cycle/rounds till the problem is found (mis-classication) answers and seeing how accurate it is. AdaBoost is 85 percent accurate when comparing predicted answers to correct answers!is appropriate.\n",
    "\n",
    "An example of this discovery is forecasting the height and weight of a person of a certain age in a specific city. We can obtain demographic data for a given city, including height, weight, and age, and then train an algorithm for a specific iteration based on the error level until we achieve acceptable prediction.\n",
    "\n",
    "(https://prateekvjoshi.com/2014/05/05/what-is-adaboost/)"
   ]
  },
  {
   "cell_type": "markdown",
   "metadata": {},
   "source": [
    "### Implementation: Model Tuning\n",
    "Fine tune the chosen model. Use grid search (`GridSearchCV`) with at least one important parameter tuned with at least 3 different values. You will need to use the entire training set for this. In the code cell below, you will need to implement the following:\n",
    "- Import [`sklearn.grid_search.GridSearchCV`](http://scikit-learn.org/0.17/modules/generated/sklearn.grid_search.GridSearchCV.html) and [`sklearn.metrics.make_scorer`](http://scikit-learn.org/stable/modules/generated/sklearn.metrics.make_scorer.html).\n",
    "- Initialize the classifier you've chosen and store it in `clf`.\n",
    " - Set a `random_state` if one is available to the same state you set before.\n",
    "- Create a dictionary of parameters you wish to tune for the chosen model.\n",
    " - Example: `parameters = {'parameter' : [list of values]}`.\n",
    " - **Note:** Avoid tuning the `max_features` parameter of your learner if that parameter is available!\n",
    "- Use `make_scorer` to create an `fbeta_score` scoring object (with $\\beta = 0.5$).\n",
    "- Perform grid search on the classifier `clf` using the `'scorer'`, and store it in `grid_obj`.\n",
    "- Fit the grid search object to the training data (`X_train`, `y_train`), and store it in `grid_fit`.\n",
    "\n",
    "**Note:** Depending on the algorithm chosen and the parameter list, the following implementation may take some time to run!"
   ]
  },
  {
   "cell_type": "code",
   "execution_count": 12,
   "metadata": {},
   "outputs": [
    {
     "name": "stdout",
     "output_type": "stream",
     "text": [
      "Unoptimized model\n",
      "------\n",
      "Accuracy score on testing data: 0.8576\n",
      "F-score on testing data: 0.7246\n",
      "\n",
      "Optimized Model\n",
      "------\n",
      "Final accuracy score on the testing data: 0.8640\n",
      "Final F-score on the testing data: 0.7355\n"
     ]
    }
   ],
   "source": [
    "# TODO: Import 'GridSearchCV', 'make_scorer', and any other necessary libraries\n",
    "from sklearn.ensemble import AdaBoostClassifier\n",
    "from sklearn.model_selection import RandomizedSearchCV, GridSearchCV\n",
    "from sklearn.metrics import make_scorer\n",
    "\n",
    "\n",
    "# TODO: Initialize the classifier\n",
    "clf = AdaBoostClassifier(random_state=10)\n",
    "\n",
    "# TODO: Create the parameters list you wish to tune, using a dictionary if needed.\n",
    "# HINT: parameters = {'parameter_1': [value1, value2], 'parameter_2': [value1, value2]}\n",
    "parameters = {'n_estimators' : [25,50,100,200], 'learning_rate' : [0.1,0.5,1.5], 'algorithm': ['SAMME', 'SAMME.R']}\n",
    "\n",
    "\n",
    "# TODO: Make an fbeta_score scoring object using make_scorer()\n",
    "scorer = make_scorer(fbeta_score, beta = 0.5)\n",
    "\n",
    "# TODO: Perform grid search on the classifier using 'scorer' as the scoring method using GridSearchCV()\n",
    "grid_obj = GridSearchCV(estimator = clf, param_grid = parameters,scoring = scorer )\n",
    "\n",
    "# TODO: Fit the grid search object to the training data and find the optimal parameters using fit()\n",
    "grid_fit = grid_obj.fit(X_train, y_train)\n",
    "\n",
    "\n",
    "# Get the estimator\n",
    "best_clf = grid_fit.best_estimator_\n",
    "\n",
    "# Make predictions using the unoptimized and model\n",
    "predictions = (clf.fit(X_train, y_train)).predict(X_test)\n",
    "best_predictions = best_clf.predict(X_test)\n",
    "\n",
    "# Report the before-and-afterscores\n",
    "print(\"Unoptimized model\\n------\")\n",
    "print(\"Accuracy score on testing data: {:.4f}\".format(accuracy_score(y_test, predictions)))\n",
    "print(\"F-score on testing data: {:.4f}\".format(fbeta_score(y_test, predictions, beta = 0.5)))\n",
    "print(\"\\nOptimized Model\\n------\")\n",
    "print(\"Final accuracy score on the testing data: {:.4f}\".format(accuracy_score(y_test, best_predictions)))\n",
    "print(\"Final F-score on the testing data: {:.4f}\".format(fbeta_score(y_test, best_predictions, beta = 0.5)))"
   ]
  },
  {
   "cell_type": "markdown",
   "metadata": {},
   "source": [
    "### Question 5 - Final Model Evaluation\n",
    "\n",
    "* What is your optimized model's accuracy and F-score on the testing data? \n",
    "* Are these scores better or worse than the unoptimized model? \n",
    "* How do the results from your optimized model compare to the naive predictor benchmarks you found earlier in **Question 1**?_  \n",
    "\n",
    "**Note:** Fill in the table below with your results, and then provide discussion in the **Answer** box."
   ]
  },
  {
   "cell_type": "markdown",
   "metadata": {},
   "source": [
    "#### Results:\n",
    "\n",
    "|     Metric     | Unoptimized Model | Optimized Model |\n",
    "| :------------: | :---------------: | :-------------: | \n",
    "| Accuracy Score |   0.8576          |       0.8640    |\n",
    "| F-score        |   0.7246          |       0.7355    |\n"
   ]
  },
  {
   "cell_type": "markdown",
   "metadata": {},
   "source": [
    "**Answer: **\n",
    "\n",
    "The optimized accuracy 0.8640  and f-score 0.7355 is more petter than Unoptimized Model\taccuracy 0.8576 and f-score 0.7246\n",
    "and the optimized model among the 4 models we tested"
   ]
  },
  {
   "cell_type": "markdown",
   "metadata": {},
   "source": [
    "----\n",
    "## Feature Importance\n",
    "\n",
    "An important task when performing supervised learning on a dataset like the census data we study here is determining which features provide the most predictive power. By focusing on the relationship between only a few crucial features and the target label we simplify our understanding of the phenomenon, which is most always a useful thing to do. In the case of this project, that means we wish to identify a small number of features that most strongly predict whether an individual makes at most or more than \\$50,000.\n",
    "\n",
    "Choose a scikit-learn classifier (e.g., adaboost, random forests) that has a `feature_importance_` attribute, which is a function that ranks the importance of features according to the chosen classifier.  In the next python cell fit this classifier to training set and use this attribute to determine the top 5 most important features for the census dataset."
   ]
  },
  {
   "cell_type": "markdown",
   "metadata": {},
   "source": [
    "### Question 6 - Feature Relevance Observation\n",
    "When **Exploring the Data**, it was shown there are thirteen available features for each individual on record in the census data. Of these thirteen records, which five features do you believe to be most important for prediction, and in what order would you rank them and why?"
   ]
  },
  {
   "cell_type": "markdown",
   "metadata": {},
   "source": [
    "**Answer:**\n",
    "\n",
    "\n",
    "Education-number: There is a trend that the higher a person's education, the more money they can make.\n",
    "\n",
    "weekly hours: The higher the number of hours worked per week, the more money an individual can earn.\n",
    "\n",
    "Capital-gain :Individuals with a bigger capital gain are more likely to spend more money.\n",
    "\n",
    "Age: It is a general rule that the more experienced a person is, the greater their salary.\n",
    "\n",
    "Capital loss: we don't know why this happened, but it could be a psychological effect.\n"
   ]
  },
  {
   "cell_type": "markdown",
   "metadata": {},
   "source": [
    "### Implementation - Extracting Feature Importance\n",
    "Choose a `scikit-learn` supervised learning algorithm that has a `feature_importance_` attribute availble for it. This attribute is a function that ranks the importance of each feature when making predictions based on the chosen algorithm.\n",
    "\n",
    "In the code cell below, you will need to implement the following:\n",
    " - Import a supervised learning model from sklearn if it is different from the three used earlier.\n",
    " - Train the supervised model on the entire training set.\n",
    " - Extract the feature importances using `'.feature_importances_'`."
   ]
  },
  {
   "cell_type": "code",
   "execution_count": 13,
   "metadata": {},
   "outputs": [
    {
     "data": {
      "image/png": "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\n",
      "text/plain": [
       "<Figure size 648x360 with 1 Axes>"
      ]
     },
     "metadata": {
      "needs_background": "light"
     },
     "output_type": "display_data"
    }
   ],
   "source": [
    "# TODO: Import a supervised learning model that has 'feature_importances_'\n",
    "from sklearn.ensemble import AdaBoostClassifier\n",
    "\n",
    "# TODO: Train the supervised model on the training set using .fit(X_train, y_train)\n",
    "model = AdaBoostClassifier().fit(X_train, y_train)\n",
    "\n",
    "# TODO: Extract the feature importances using .feature_importances_ \n",
    "importances = model.feature_importances_\n",
    "\n",
    "# Plot\n",
    "vs.feature_plot(importances, X_train, y_train)"
   ]
  },
  {
   "cell_type": "markdown",
   "metadata": {},
   "source": [
    "### Question 7 - Extracting Feature Importance\n",
    "\n",
    "Observe the visualization created above which displays the five most relevant features for predicting if an individual makes at most or above \\$50,000.  \n",
    "* How do these five features compare to the five features you discussed in **Question 6**?\n",
    "* If you were close to the same answer, how does this visualization confirm your thoughts? \n",
    "* If you were not close, why do you think these features are more relevant?"
   ]
  },
  {
   "cell_type": "markdown",
   "metadata": {},
   "source": [
    "**Answer:**\n",
    "\n",
    "I think my feature selection is pretty close. Reason being education-num (which is one of the two features I didn't think of) and education level (which I thought and wasn't visualization) can be used interchangeably. According to our data, most individuals with similar educational levels have the same education. \n",
    "\n",
    "I think education-num, being a numerical feature, would probably be more preferred and that's why it was chosen over the education level. Regarding capital loss, I did not include it because I thought that capital gain would be very useful to determine if an individual's income was >50k. But, now when I think about it, the capital loss will help us tremendously because the higher capital loss means the per capita income is probably less than 50k and vice versa. "
   ]
  },
  {
   "cell_type": "markdown",
   "metadata": {},
   "source": [
    "### Feature Selection\n",
    "How does a model perform if we only use a subset of all the available features in the data? With less features required to train, the expectation is that training and prediction time is much lower — at the cost of performance metrics. From the visualization above, we see that the top five most important features contribute more than half of the importance of **all** features present in the data. This hints that we can attempt to *reduce the feature space* and simplify the information required for the model to learn. The code cell below will use the same optimized model you found earlier, and train it on the same training set *with only the top five important features*. "
   ]
  },
  {
   "cell_type": "code",
   "execution_count": 14,
   "metadata": {},
   "outputs": [
    {
     "name": "stdout",
     "output_type": "stream",
     "text": [
      "Final Model trained on full data\n",
      "------\n",
      "Accuracy on testing data: 0.8640\n",
      "F-score on testing data: 0.7355\n",
      "\n",
      "Final Model trained on reduced data\n",
      "------\n",
      "Accuracy on testing data: 0.8391\n",
      "F-score on testing data: 0.6927\n"
     ]
    }
   ],
   "source": [
    "# Import functionality for cloning a model\n",
    "from sklearn.base import clone\n",
    "\n",
    "# Reduce the feature space\n",
    "X_train_reduced = X_train[X_train.columns.values[(np.argsort(importances)[::-1])[:5]]]\n",
    "X_test_reduced = X_test[X_test.columns.values[(np.argsort(importances)[::-1])[:5]]]\n",
    "\n",
    "# Train on the \"best\" model found from grid search earlier\n",
    "clf = (clone(best_clf)).fit(X_train_reduced, y_train)\n",
    "\n",
    "# Make new predictions\n",
    "reduced_predictions = clf.predict(X_test_reduced)\n",
    "\n",
    "# Report scores from the final model using both versions of data\n",
    "print(\"Final Model trained on full data\\n------\")\n",
    "print(\"Accuracy on testing data: {:.4f}\".format(accuracy_score(y_test, best_predictions)))\n",
    "print(\"F-score on testing data: {:.4f}\".format(fbeta_score(y_test, best_predictions, beta = 0.5)))\n",
    "print(\"\\nFinal Model trained on reduced data\\n------\")\n",
    "print(\"Accuracy on testing data: {:.4f}\".format(accuracy_score(y_test, reduced_predictions)))\n",
    "print(\"F-score on testing data: {:.4f}\".format(fbeta_score(y_test, reduced_predictions, beta = 0.5)))"
   ]
  },
  {
   "cell_type": "markdown",
   "metadata": {},
   "source": [
    "### Question 8 - Effects of Feature Selection\n",
    "\n",
    "* How does the final model's F-score and accuracy score on the reduced data using only five features compare to those same scores when all features are used?\n",
    "* If training time was a factor, would you consider using the reduced data as your training set?"
   ]
  },
  {
   "cell_type": "markdown",
   "metadata": {},
   "source": [
    "**Answer:**\n",
    "\n",
    "The reduced data F-score accuracy is 0.8391, which is lower than the full data F-score accuracy of 0.8640.This suggests that lowering the feature set can have a negative impact on the model's performance. We can create better predictions with more features, but we'll need more data to do so.\n",
    "Because the training time was not significantly different after lowering the feature space, and the f-score was a modest but meaningful difference, I concluded that if time was a consideration, I would not use reduced data for an AdaBoost model for our training set."
   ]
  },
  {
   "cell_type": "markdown",
   "metadata": {},
   "source": [
    "> **Note**: Once you have completed all of the code implementations and successfully answered each question above, you may finalize your work by exporting the iPython Notebook as an HTML document. You can do this by using the menu above and navigating to  \n",
    "**File -> Download as -> HTML (.html)**. Include the finished document along with this notebook as your submission."
   ]
  }
 ],
 "metadata": {
  "kernelspec": {
   "display_name": "Python 3",
   "language": "python",
   "name": "python3"
  },
  "language_info": {
   "codemirror_mode": {
    "name": "ipython",
    "version": 3
   },
   "file_extension": ".py",
   "mimetype": "text/x-python",
   "name": "python",
   "nbconvert_exporter": "python",
   "pygments_lexer": "ipython3",
   "version": "3.8.5"
  }
 },
 "nbformat": 4,
 "nbformat_minor": 1
}
